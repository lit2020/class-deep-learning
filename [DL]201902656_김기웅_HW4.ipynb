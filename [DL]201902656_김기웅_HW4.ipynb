{
  "nbformat": 4,
  "nbformat_minor": 0,
  "metadata": {
    "colab": {
      "provenance": [],
      "collapsed_sections": [
        "RIrGAqb-nYhF",
        "N6ruKEe1uKSO",
        "53ldjcfPqAZA",
        "qri5PFGiw7Zn",
        "cJ81dlSezo8u"
      ],
      "authorship_tag": "ABX9TyNpm9P7zjKRw54iGl6Go1eu",
      "include_colab_link": true
    },
    "kernelspec": {
      "name": "python3",
      "display_name": "Python 3"
    },
    "language_info": {
      "name": "python"
    }
  },
  "cells": [
    {
      "cell_type": "markdown",
      "metadata": {
        "id": "view-in-github",
        "colab_type": "text"
      },
      "source": [
        "<a href=\"https://colab.research.google.com/github/lit2020/class-deep-learning/blob/main/%5BDL%5D201902656_%EA%B9%80%EA%B8%B0%EC%9B%85_HW4.ipynb\" target=\"_parent\"><img src=\"https://colab.research.google.com/assets/colab-badge.svg\" alt=\"Open In Colab\"/></a>"
      ]
    },
    {
      "cell_type": "markdown",
      "source": [
        "# import, GPU/CPU 설정"
      ],
      "metadata": {
        "id": "RIrGAqb-nYhF"
      }
    },
    {
      "cell_type": "code",
      "execution_count": 60,
      "metadata": {
        "id": "R0Kf_oEEmYG_"
      },
      "outputs": [],
      "source": [
        "import torch\n",
        "import torch.nn as nn\n",
        "import torch.nn.functional as F\n",
        "from torch.utils.data import DataLoader, Dataset\n",
        "\n",
        "import torchvision\n",
        "import torchvision.transforms as transforms\n",
        "\n",
        "import random\n",
        "import numpy as np\n",
        "import matplotlib.pyplot as plt"
      ]
    },
    {
      "cell_type": "code",
      "source": [
        "device = 'cuda' if torch.cuda.is_available() else 'cpu'\n",
        "print(device)\n",
        "random.seed(1412)\n",
        "torch.manual_seed(1412)\n",
        "if device == 'cuda':\n",
        "    torch.cuda.manual_seed_all(1412)"
      ],
      "metadata": {
        "colab": {
          "base_uri": "https://localhost:8080/"
        },
        "id": "4UHqP5RYnoyL",
        "outputId": "bb21db26-dd1c-4611-f4dc-a3ecd267152e"
      },
      "execution_count": 61,
      "outputs": [
        {
          "output_type": "stream",
          "name": "stdout",
          "text": [
            "cpu\n"
          ]
        }
      ]
    },
    {
      "cell_type": "markdown",
      "source": [
        "# 데이터셋 로드"
      ],
      "metadata": {
        "id": "N6ruKEe1uKSO"
      }
    },
    {
      "cell_type": "code",
      "source": [
        "train_dataset = torchvision.datasets.CIFAR10(root='./data', train=True,\n",
        "                                             transform = transforms.ToTensor(),\n",
        "                                             download=True\n",
        "                                             )\n",
        "test_dataset = torchvision.datasets.CIFAR10(root='./data', train=False,\n",
        "                                             transform = transforms.ToTensor(),\n",
        "                                             download=True)"
      ],
      "metadata": {
        "id": "LLQgqaWDmrQB",
        "colab": {
          "base_uri": "https://localhost:8080/"
        },
        "outputId": "a25900dd-3d13-452b-edfe-781a43db82ac"
      },
      "execution_count": 62,
      "outputs": [
        {
          "output_type": "stream",
          "name": "stdout",
          "text": [
            "Files already downloaded and verified\n",
            "Files already downloaded and verified\n"
          ]
        }
      ]
    },
    {
      "cell_type": "markdown",
      "source": [
        "# Batch Generation"
      ],
      "metadata": {
        "id": "53ldjcfPqAZA"
      }
    },
    {
      "cell_type": "code",
      "source": [
        "batch_size = 100\n",
        "train_loader = DataLoader(dataset = train_dataset, batch_size = batch_size,\n",
        "                          shuffle=True)\n",
        "test_loader = DataLoader(dataset = test_dataset, batch_size = batch_size,\n",
        "                         shuffle=True)"
      ],
      "metadata": {
        "id": "cgJ1Oc95mrNj"
      },
      "execution_count": 63,
      "outputs": []
    },
    {
      "cell_type": "code",
      "source": [
        "for i, data in enumerate(train_loader):\n",
        "    x, y = data # features and labels\n",
        "\n",
        "    print('x type : ', type(x))\n",
        "    print('x.shape : ', x.shape) # [100(instances), 3(RGR), 32, 32 (width, height)]\n",
        "    print('x[0] shape : ', x[0].shape) # [3, 32, 32]\n",
        "    print('y type : ', type(y))\n",
        "    print('y.shape : ', y.shape) # [100 (label for each image)]\n",
        "    print('y[0] : ', y[0]) # class number (0~9)\n",
        "\n",
        "    # x[0]의 shape은 (3, 32, 32)로 채널 차원이 가장 앞에 있음\n",
        "    # plt.imshow에서는 (가로, 세로, 채널)로 사용하므로 permute 함수를 통해\n",
        "    # [3, 32, 32] -> [32, 32, 3]으로 변경\n",
        "    permuted_image = x[0].permute(1,2,0)\n",
        "    plt.imshow(permuted_image)\n",
        "    print('permuted x[0] shape : ', (permuted_image.shape))\n",
        "    break"
      ],
      "metadata": {
        "id": "gEC-St47mrKv",
        "colab": {
          "base_uri": "https://localhost:8080/",
          "height": 0
        },
        "outputId": "29aaef9d-d54f-4f85-e410-74caa83743f0"
      },
      "execution_count": 64,
      "outputs": [
        {
          "output_type": "stream",
          "name": "stdout",
          "text": [
            "x type :  <class 'torch.Tensor'>\n",
            "x.shape :  torch.Size([100, 3, 32, 32])\n",
            "x[0] shape :  torch.Size([3, 32, 32])\n",
            "y type :  <class 'torch.Tensor'>\n",
            "y.shape :  torch.Size([100])\n",
            "y[0] :  tensor(0)\n",
            "permuted x[0] shape :  torch.Size([32, 32, 3])\n"
          ]
        },
        {
          "output_type": "display_data",
          "data": {
            "text/plain": [
              "<Figure size 640x480 with 1 Axes>"
            ],
            "image/png": "[encoded data removed]"
          },
          "metadata": {}
        }
      ]
    },
    {
      "cell_type": "markdown",
      "source": [
        "# 모델"
      ],
      "metadata": {
        "id": "2R_jxKjcucQO"
      }
    },
    {
      "cell_type": "code",
      "source": [
        "class CNN(nn.Module):\n",
        "    def __init__(self):\n",
        "        super(CNN, self).__init__()\n",
        "\n",
        "        self.layer1 = nn.Sequential(nn.Conv2d(3, 64, kernel_size = 1, stride = 1),\n",
        "                                    nn.BatchNorm2d(64),\n",
        "                                    nn.ReLU(),\n",
        "                                    nn.MaxPool2d(2))\n",
        "        self.layer2 = nn.Sequential(nn.Conv2d(64, 128, kernel_size = 5, stride = 2,\n",
        "                                              padding = 0),\n",
        "                                    nn.BatchNorm2d(128),\n",
        "                                    nn.ReLU(),\n",
        "                                    nn.MaxPool2d(2))\n",
        "        self.fc = nn.Linear(3 * 3 * 128, 10)\n",
        "\n",
        "    def forward(self, x):\n",
        "        out = self.layer1(x)\n",
        "        out = self.layer2(out)\n",
        "        out=out.view(out.shape[0], -1)\n",
        "        out = self.fc(out)\n",
        "\n",
        "        return out"
      ],
      "metadata": {
        "id": "lLjgLo57mrIU"
      },
      "execution_count": 65,
      "outputs": []
    },
    {
      "cell_type": "code",
      "source": [
        "model = CNN().to(device)"
      ],
      "metadata": {
        "id": "3OYN6HcLmrFh"
      },
      "execution_count": 66,
      "outputs": []
    },
    {
      "cell_type": "code",
      "source": [
        "# Hyper Parameters\n",
        "\n",
        "num_epochs = 10\n",
        "learning_rate = 0.01\n",
        "criterion = nn.CrossEntropyLoss()\n",
        "optimizer = torch.optim.Adam(model.parameters(), lr = learning_rate)"
      ],
      "metadata": {
        "id": "eZeBP9Uywlfo"
      },
      "execution_count": 67,
      "outputs": []
    },
    {
      "cell_type": "markdown",
      "source": [
        "# Train"
      ],
      "metadata": {
        "id": "qri5PFGiw7Zn"
      }
    },
    {
      "cell_type": "code",
      "source": [
        "\n",
        "loss_list = []\n",
        "for epoch_num in range(num_epochs):\n",
        "    average_cost = 0\n",
        "\n",
        "    for batch_idx, (x_data, y_label) in enumerate(train_loader):\n",
        "        num_of_mini_batch = len(train_loader)\n",
        "        x_data = x_data.to(device)\n",
        "        input_image = x_data.reshape(batch_size, 3, 32, 32)\n",
        "        label = y_label.to(device)\n",
        "\n",
        "        optimizer.zero_grad()\n",
        "        y_predict = model(input_image)\n",
        "        loss = criterion(y_predict, label)\n",
        "\n",
        "        loss.backward()\n",
        "        optimizer.step()\n",
        "\n",
        "        average_cost = average_cost + (loss.item() / num_of_mini_batch)\n",
        "        loss_list.append(loss)\n",
        "\n",
        "    print(\"Epoch {} Loss {:.5f}\".format(((epoch_num + 1), average_cost)))"
      ],
      "metadata": {
        "colab": {
          "base_uri": "https://localhost:8080/",
          "height": 391
        },
        "id": "Sh8M271iw3WS",
        "outputId": "1f37cbb3-eadb-4802-c126-51be72af0f92"
      },
      "execution_count": 58,
      "outputs": [
        {
          "output_type": "error",
          "ename": "KeyboardInterrupt",
          "evalue": "",
          "traceback": [
            "\u001b[0;31m---------------------------------------------------------------------------\u001b[0m",
            "\u001b[0;31mKeyboardInterrupt\u001b[0m                         Traceback (most recent call last)",
            "\u001b[0;32m<ipython-input-58-72d5165acd1f>\u001b[0m in \u001b[0;36m<cell line: 2>\u001b[0;34m()\u001b[0m\n\u001b[1;32m     13\u001b[0m         \u001b[0mloss\u001b[0m \u001b[0;34m=\u001b[0m \u001b[0mcriterion\u001b[0m\u001b[0;34m(\u001b[0m\u001b[0my_predict\u001b[0m\u001b[0;34m,\u001b[0m \u001b[0mlabel\u001b[0m\u001b[0;34m)\u001b[0m\u001b[0;34m\u001b[0m\u001b[0;34m\u001b[0m\u001b[0m\n\u001b[1;32m     14\u001b[0m \u001b[0;34m\u001b[0m\u001b[0m\n\u001b[0;32m---> 15\u001b[0;31m         \u001b[0mloss\u001b[0m\u001b[0;34m.\u001b[0m\u001b[0mbackward\u001b[0m\u001b[0;34m(\u001b[0m\u001b[0;34m)\u001b[0m\u001b[0;34m\u001b[0m\u001b[0;34m\u001b[0m\u001b[0m\n\u001b[0m\u001b[1;32m     16\u001b[0m         \u001b[0moptimizer\u001b[0m\u001b[0;34m.\u001b[0m\u001b[0mstep\u001b[0m\u001b[0;34m(\u001b[0m\u001b[0;34m)\u001b[0m\u001b[0;34m\u001b[0m\u001b[0;34m\u001b[0m\u001b[0m\n\u001b[1;32m     17\u001b[0m \u001b[0;34m\u001b[0m\u001b[0m\n",
            "\u001b[0;32m/usr/local/lib/python3.10/dist-packages/torch/_tensor.py\u001b[0m in \u001b[0;36mbackward\u001b[0;34m(self, gradient, retain_graph, create_graph, inputs)\u001b[0m\n\u001b[1;32m    520\u001b[0m                 \u001b[0minputs\u001b[0m\u001b[0;34m=\u001b[0m\u001b[0minputs\u001b[0m\u001b[0;34m,\u001b[0m\u001b[0;34m\u001b[0m\u001b[0;34m\u001b[0m\u001b[0m\n\u001b[1;32m    521\u001b[0m             )\n\u001b[0;32m--> 522\u001b[0;31m         torch.autograd.backward(\n\u001b[0m\u001b[1;32m    523\u001b[0m             \u001b[0mself\u001b[0m\u001b[0;34m,\u001b[0m \u001b[0mgradient\u001b[0m\u001b[0;34m,\u001b[0m \u001b[0mretain_graph\u001b[0m\u001b[0;34m,\u001b[0m \u001b[0mcreate_graph\u001b[0m\u001b[0;34m,\u001b[0m \u001b[0minputs\u001b[0m\u001b[0;34m=\u001b[0m\u001b[0minputs\u001b[0m\u001b[0;34m\u001b[0m\u001b[0;34m\u001b[0m\u001b[0m\n\u001b[1;32m    524\u001b[0m         )\n",
            "\u001b[0;32m/usr/local/lib/python3.10/dist-packages/torch/autograd/__init__.py\u001b[0m in \u001b[0;36mbackward\u001b[0;34m(tensors, grad_tensors, retain_graph, create_graph, grad_variables, inputs)\u001b[0m\n\u001b[1;32m    264\u001b[0m     \u001b[0;31m# some Python versions print out the first line of a multi-line function\u001b[0m\u001b[0;34m\u001b[0m\u001b[0;34m\u001b[0m\u001b[0m\n\u001b[1;32m    265\u001b[0m     \u001b[0;31m# calls in the traceback and some print out the last line\u001b[0m\u001b[0;34m\u001b[0m\u001b[0;34m\u001b[0m\u001b[0m\n\u001b[0;32m--> 266\u001b[0;31m     Variable._execution_engine.run_backward(  # Calls into the C++ engine to run the backward pass\n\u001b[0m\u001b[1;32m    267\u001b[0m         \u001b[0mtensors\u001b[0m\u001b[0;34m,\u001b[0m\u001b[0;34m\u001b[0m\u001b[0;34m\u001b[0m\u001b[0m\n\u001b[1;32m    268\u001b[0m         \u001b[0mgrad_tensors_\u001b[0m\u001b[0;34m,\u001b[0m\u001b[0;34m\u001b[0m\u001b[0;34m\u001b[0m\u001b[0m\n",
            "\u001b[0;31mKeyboardInterrupt\u001b[0m: "
          ]
        }
      ]
    },
    {
      "cell_type": "markdown",
      "source": [
        "# validation"
      ],
      "metadata": {
        "id": "cJ81dlSezo8u"
      }
    },
    {
      "cell_type": "code",
      "source": [
        "with torch.no_grad():\n",
        "    num_total_data = 0\n",
        "    correct = 0\n",
        "\n",
        "    # validation, evaluation을 위한 모드 설정\n",
        "    # Drop out과 같은 레이어는, 훈련단계와 평가단계에서의 동작이 다름\n",
        "    model.eval()\n",
        "    for cnt_batch, (x, y) in enumerate(test_loader):\n",
        "        x = x.reshape(batch_size, 3, 32, 32)\n",
        "        x = x.to(device)\n",
        "        y = y.to(device)\n",
        "        y_pred = model(x)\n",
        "        y_pred = F.softmax(y_pred, dim=1)\n",
        "        y_pred = torch.argmax(y_pred, dim=1)\n",
        "        num_total_data += len(x)\n",
        "        correct += sum(y == y_pred).item()\n",
        "\n",
        "print(\"Model Accuracy : {:.5f}\".format(correct / num_total_data))"
      ],
      "metadata": {
        "id": "w0YQ9vC_yLeQ"
      },
      "execution_count": null,
      "outputs": []
    },
    {
      "cell_type": "code",
      "source": [],
      "metadata": {
        "id": "abuVvxfAzwAV"
      },
      "execution_count": null,
      "outputs": []
    },
    {
      "cell_type": "markdown",
      "source": [
        "# ResNet Fine tuning"
      ],
      "metadata": {
        "id": "nbHMMSdzzyec"
      }
    },
    {
      "cell_type": "code",
      "source": [
        "resnet = torchvision.models.resnet18(pretrained=True)\n",
        "resnet"
      ],
      "metadata": {
        "id": "4t_yetAMz1dq"
      },
      "execution_count": null,
      "outputs": []
    },
    {
      "cell_type": "code",
      "source": [
        "# fully connected 레이어의 아웃풋 노드를 1000개에서 10개로 변경\n",
        "resnet.fc = nn.Linear(resnet.fc.in_features, 10)\n",
        "resnet = resnet.to(device)"
      ],
      "metadata": {
        "id": "ijkvL9Vcz8M-"
      },
      "execution_count": 73,
      "outputs": []
    },
    {
      "cell_type": "code",
      "source": [
        "# Hyper Parameters\n",
        "\n",
        "num_epochs = 10\n",
        "learning_rate = 0.001\n",
        "criterion = nn.CrossEntropyLoss()\n",
        "optimizer = torch.optim.Adam(model.parameters(), lr = learning_rate)"
      ],
      "metadata": {
        "id": "VaInQli61WuU"
      },
      "execution_count": 75,
      "outputs": []
    }
  ]
}