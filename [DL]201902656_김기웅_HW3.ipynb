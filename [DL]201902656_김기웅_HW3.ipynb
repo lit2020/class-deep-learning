{
  "cells": [
    {
      "cell_type": "markdown",
      "metadata": {
        "id": "view-in-github",
        "colab_type": "text"
      },
      "source": [
        "<a href=\"https://colab.research.google.com/github/lit2020/class-deep-learning/blob/main/%5BDL%5D201902656_%EA%B9%80%EA%B8%B0%EC%9B%85_HW3.ipynb\" target=\"_parent\"><img src=\"https://colab.research.google.com/assets/colab-badge.svg\" alt=\"Open In Colab\"/></a>"
      ]
    },
    {
      "cell_type": "markdown",
      "metadata": {
        "id": "11yEVCt0sCTL"
      },
      "source": [
        "# Import"
      ]
    },
    {
      "cell_type": "code",
      "execution_count": null,
      "metadata": {
        "id": "wWiRkNOmRisi"
      },
      "outputs": [],
      "source": [
        "import torch\n",
        "import torch.nn as nn # layers, loss functions\n",
        "import torch.nn.functional as F # F.softmax\n",
        "\n",
        "from torch.utils.data import Dataset, DataLoader\n",
        "import torch.utils.data as data_utils\n",
        "import torchvision\n",
        "import torchvision.transforms as transforms\n",
        "\n",
        "import numpy as np\n",
        "from matplotlib import pyplot as plt\n",
        "import random"
      ]
    },
    {
      "cell_type": "markdown",
      "metadata": {
        "id": "tJPVZT5isJND"
      },
      "source": [
        "# Cuda setting"
      ]
    },
    {
      "cell_type": "code",
      "execution_count": null,
      "metadata": {
        "colab": {
          "base_uri": "https://localhost:8080/"
        },
        "id": "UHYHiMqMRDVt",
        "outputId": "78a8c47d-d33d-4607-fe62-516ea4b306de"
      },
      "outputs": [
        {
          "output_type": "stream",
          "name": "stdout",
          "text": [
            "cuda\n"
          ]
        }
      ],
      "source": [
        "device = 'cuda' if torch.cuda.is_available() else 'cpu'\n",
        "print(device)\n",
        "random.seed(1214)\n",
        "torch.manual_seed(1214)\n",
        "if device == 'cuda':\n",
        "    torch.cuda.manual_seed_all(1214)"
      ]
    },
    {
      "cell_type": "markdown",
      "metadata": {
        "id": "tcY4EYDusVP3"
      },
      "source": [
        "# load dataset"
      ]
    },
    {
      "cell_type": "code",
      "execution_count": null,
      "metadata": {
        "id": "Ij2jE0NJjo0e",
        "colab": {
          "base_uri": "https://localhost:8080/"
        },
        "outputId": "d5417f53-edff-407c-824c-9f22b1948369"
      },
      "outputs": [
        {
          "output_type": "stream",
          "name": "stdout",
          "text": [
            "Downloading http://yann.lecun.com/exdb/mnist/train-images-idx3-ubyte.gz\n",
            "Failed to download (trying next):\n",
            "HTTP Error 503: Service Unavailable\n",
            "\n",
            "Downloading https://ossci-datasets.s3.amazonaws.com/mnist/train-images-idx3-ubyte.gz\n",
            "Downloading https://ossci-datasets.s3.amazonaws.com/mnist/train-images-idx3-ubyte.gz to ./data/MNIST/raw/train-images-idx3-ubyte.gz\n"
          ]
        },
        {
          "output_type": "stream",
          "name": "stderr",
          "text": [
            "100%|██████████| 9912422/9912422 [00:03<00:00, 3135231.65it/s]\n"
          ]
        },
        {
          "output_type": "stream",
          "name": "stdout",
          "text": [
            "Extracting ./data/MNIST/raw/train-images-idx3-ubyte.gz to ./data/MNIST/raw\n",
            "\n",
            "Downloading http://yann.lecun.com/exdb/mnist/train-labels-idx1-ubyte.gz\n",
            "Failed to download (trying next):\n",
            "HTTP Error 503: Service Unavailable\n",
            "\n",
            "Downloading https://ossci-datasets.s3.amazonaws.com/mnist/train-labels-idx1-ubyte.gz\n",
            "Downloading https://ossci-datasets.s3.amazonaws.com/mnist/train-labels-idx1-ubyte.gz to ./data/MNIST/raw/train-labels-idx1-ubyte.gz\n"
          ]
        },
        {
          "output_type": "stream",
          "name": "stderr",
          "text": [
            "100%|██████████| 28881/28881 [00:00<00:00, 467759.56it/s]\n"
          ]
        },
        {
          "output_type": "stream",
          "name": "stdout",
          "text": [
            "Extracting ./data/MNIST/raw/train-labels-idx1-ubyte.gz to ./data/MNIST/raw\n",
            "\n",
            "Downloading http://yann.lecun.com/exdb/mnist/t10k-images-idx3-ubyte.gz\n",
            "Downloading http://yann.lecun.com/exdb/mnist/t10k-images-idx3-ubyte.gz to ./data/MNIST/raw/t10k-images-idx3-ubyte.gz\n",
            "Failed to download (trying next):\n",
            "HTTP Error 503: Service Unavailable\n",
            "\n",
            "Downloading https://ossci-datasets.s3.amazonaws.com/mnist/t10k-images-idx3-ubyte.gz\n",
            "Downloading https://ossci-datasets.s3.amazonaws.com/mnist/t10k-images-idx3-ubyte.gz to ./data/MNIST/raw/t10k-images-idx3-ubyte.gz\n"
          ]
        },
        {
          "output_type": "stream",
          "name": "stderr",
          "text": [
            "100%|██████████| 1648877/1648877 [00:00<00:00, 4531658.81it/s]\n"
          ]
        },
        {
          "output_type": "stream",
          "name": "stdout",
          "text": [
            "Extracting ./data/MNIST/raw/t10k-images-idx3-ubyte.gz to ./data/MNIST/raw\n",
            "\n",
            "Downloading http://yann.lecun.com/exdb/mnist/t10k-labels-idx1-ubyte.gz\n",
            "Failed to download (trying next):\n",
            "HTTP Error 503: Service Unavailable\n",
            "\n",
            "Downloading https://ossci-datasets.s3.amazonaws.com/mnist/t10k-labels-idx1-ubyte.gz\n",
            "Downloading https://ossci-datasets.s3.amazonaws.com/mnist/t10k-labels-idx1-ubyte.gz to ./data/MNIST/raw/t10k-labels-idx1-ubyte.gz\n"
          ]
        },
        {
          "output_type": "stream",
          "name": "stderr",
          "text": [
            "100%|██████████| 4542/4542 [00:00<00:00, 9501510.61it/s]"
          ]
        },
        {
          "output_type": "stream",
          "name": "stdout",
          "text": [
            "Extracting ./data/MNIST/raw/t10k-labels-idx1-ubyte.gz to ./data/MNIST/raw\n",
            "\n"
          ]
        },
        {
          "output_type": "stream",
          "name": "stderr",
          "text": [
            "\n"
          ]
        }
      ],
      "source": [
        "train_dataset =  torchvision.datasets.MNIST(root='./data', train=True, transform=transforms.ToTensor(), download=True)\n",
        "test_dataset =  torchvision.datasets.MNIST(root='./data', train=False, transform=transforms.ToTensor(), download=True)"
      ]
    },
    {
      "cell_type": "markdown",
      "metadata": {
        "id": "cVZJ4guwscqt"
      },
      "source": [
        "# Models"
      ]
    },
    {
      "cell_type": "code",
      "execution_count": null,
      "metadata": {
        "id": "Mg1p7UhQk_Ru"
      },
      "outputs": [],
      "source": [
        "# HW2 (classification)\n",
        "class MLP_model(nn.Module):\n",
        "    def __init__(self, input_size, num_classes):\n",
        "        super(MLP_model, self).__init__()\n",
        "        self.input_size = input_size\n",
        "        self.num_classes = num_classes\n",
        "\n",
        "        self.layers = nn.ModuleList()\n",
        "        self.activation = nn.LeakyReLU(negative_slope=0.02)\n",
        "\n",
        "        self.layers.append(nn.Linear(input_size, 512))\n",
        "        self.layers.append(nn.Dropout(p=0.25)),\n",
        "        self.layers.append(nn.BatchNorm1d(512, momentum=0.2))\n",
        "        self.layers.append(self.activation)\n",
        "\n",
        "        self.layers.append(nn.Linear(512, 256))\n",
        "        self.layers.append(nn.BatchNorm1d(256, momentum=0.2))\n",
        "        self.layers.append(self.activation)\n",
        "\n",
        "        self.layers.append(nn.Linear(256, 128))\n",
        "        self.layers.append(nn.BatchNorm1d(128, momentum=0.2))\n",
        "        self.layers.append(self.activation)\n",
        "\n",
        "        self.layers.append(nn.MaxPool1d(3, padding=1, stride=2))\n",
        "        self.layers.append(self.activation)\n",
        "        self.layers.append(nn.Linear(64, 32))\n",
        "        self.layers.append(self.activation)\n",
        "        self.layers.append(nn.Linear(32, num_classes))\n",
        "\n",
        "    def forward(self, x):\n",
        "        output = x\n",
        "        for layer in self.layers:\n",
        "            output = layer(output)\n",
        "\n",
        "        return output"
      ]
    },
    {
      "cell_type": "code",
      "execution_count": null,
      "metadata": {
        "id": "BWvSjJZHoTpc"
      },
      "outputs": [],
      "source": [
        "# HW2 (classification)\n",
        "class MLP_model_seq(nn.Module):\n",
        "    def __init__(self, input_size, num_classes):\n",
        "        super(MLP_model_seq, self).__init__()\n",
        "        self.input_size = input_size\n",
        "        self.num_classes = num_classes\n",
        "\n",
        "        self.activation = nn.ReLU()\n",
        "        self.layers = []\n",
        "        self.layers.append(nn.Linear(input_size, 256))\n",
        "        self.layers.append(self.activation)\n",
        "        self.layers.append(nn.Linear(256, 128))\n",
        "        self.layers.append(self.activation)\n",
        "        self.layers.append(nn.Linear(128, 64))\n",
        "        self.layers.append(self.activation)\n",
        "        self.layers.append(nn.Linear(64, num_classes))\n",
        "        self.model = nn.Sequential(*self.layers)\n",
        "\n",
        "    def forward(self, x):\n",
        "        output = self.model(x)\n",
        "\n",
        "        return output"
      ]
    },
    {
      "cell_type": "code",
      "execution_count": null,
      "metadata": {
        "id": "NpksTFgIx5nP"
      },
      "outputs": [],
      "source": [
        "# HW2 (classification) 과제에는 없지만 그냥 사용해봄\n",
        "class Cnn(nn.Module):\n",
        "    def __init__(self, input_size, num_classes):\n",
        "        super(Cnn, self).__init__()\n",
        "        self.input_size = input_size\n",
        "        self.num_classes = num_classes\n",
        "        # (1, 28, 28)\n",
        "        self.layers = nn.ModuleList()\n",
        "        self.layers.append(nn.Conv2d(1, 1, kernel_size=5, padding=2))# (1, 28, 28)\n",
        "        self.layers.append(nn.Conv2d(1, 1, kernel_size=3, padding=1)) # (1, 28, 28)\n",
        "        self.layers.append(nn.Conv2d(1, 1, kernel_size=3, stride=2)) # (1, 13, 13)\n",
        "        self.layers.append(nn.MaxPool2d(2)) # (1, 12, 12)\n",
        "        self.layers.append(nn.Flatten()) # (144)\n",
        "        self.layers.append(nn.Linear(12 * 12, 128))\n",
        "        self.layers.append(nn.ReLU())\n",
        "        self.layers.append(nn.Linear(128, 128))\n",
        "        self.layers.append(nn.ReLU())\n",
        "        self.layers.append(nn.Linear(128, 64))\n",
        "        self.layers.append(nn.ReLU())\n",
        "        self.layers.append(nn.Linear(64, num_classes))\n",
        "        self.layers.append(nn.ReLU())\n",
        "\n",
        "    def forward(self, x):\n",
        "        output = x\n",
        "        for layer in self.layers:\n",
        "            output = layer(output)\n",
        "\n",
        "        return output\n"
      ]
    },
    {
      "cell_type": "code",
      "source": [
        "# HW3 (Regularization, Optimization)\n",
        "class Batch_Norm(nn.Module):\n",
        "    def __init__(self, input_size, num_classes):\n",
        "        super(Batch_Norm, self).__init__()\n",
        "        self.input_size = input_size\n",
        "        self.num_classes = num_classes\n",
        "        self.activation = nn.LeakyReLU(negative_slope=0.02)\n",
        "        self.network = nn.Sequential(\n",
        "            nn.Linear(input_size, 256),\n",
        "            nn.BatchNorm1d(256, momentum=0.04),\n",
        "            self.activation,\n",
        "\n",
        "            nn.Linear(256, 128),\n",
        "            nn.Dropout(p=0.3),\n",
        "            nn.BatchNorm1d(128),\n",
        "            self.activation,\n",
        "\n",
        "            nn.Linear(128, 64),\n",
        "            nn.BatchNorm1d(64),\n",
        "            nn.MaxPool1d(3, padding=1, stride=2),\n",
        "            self.activation,\n",
        "\n",
        "            nn.Linear(32, 10)\n",
        "        )\n",
        "\n",
        "    def forward(self, x):\n",
        "        output = self.network(x)\n",
        "\n",
        "        return output"
      ],
      "metadata": {
        "id": "vZCotTW2DTkQ"
      },
      "execution_count": null,
      "outputs": []
    },
    {
      "cell_type": "markdown",
      "metadata": {
        "id": "Bwk4oWV6sxd7"
      },
      "source": [
        "# Hyper Parameters"
      ]
    },
    {
      "cell_type": "code",
      "execution_count": null,
      "metadata": {
        "id": "QTtLkbCgkZlG"
      },
      "outputs": [],
      "source": [
        "# parameters\n",
        "input_size = 28 * 28\n",
        "num_classes = 10\n",
        "n_epochs = 10\n",
        "learning_rate = 0.01"
      ]
    },
    {
      "cell_type": "code",
      "execution_count": null,
      "metadata": {
        "id": "Fcm9_PIRv6q2"
      },
      "outputs": [],
      "source": [
        "batch_size = 100\n",
        "train_loader= DataLoader(dataset=train_dataset, batch_size=batch_size, shuffle=True)\n",
        "test_loader= DataLoader(dataset=test_dataset, batch_size=batch_size, shuffle=False)"
      ]
    },
    {
      "cell_type": "markdown",
      "metadata": {
        "id": "5Sc5-e-whYfS"
      },
      "source": [
        "# Model Selection\n",
        "#### learn only 1 cell"
      ]
    },
    {
      "cell_type": "markdown",
      "metadata": {
        "id": "Izeym6E9qTg0"
      },
      "source": [
        "MLP model"
      ]
    },
    {
      "cell_type": "code",
      "execution_count": null,
      "metadata": {
        "id": "J_l-pgeiaQg9"
      },
      "outputs": [],
      "source": [
        "model = MLP_model(input_size, num_classes).to(device)\n",
        "criterion = nn.CrossEntropyLoss()\n",
        "optimizer = torch.optim.Adam(model.parameters(), lr = learning_rate)"
      ]
    },
    {
      "cell_type": "markdown",
      "metadata": {
        "id": "I3H5Dy7bqkEb"
      },
      "source": [
        "MLP model with nn.Sequential()\n",
        "\n"
      ]
    },
    {
      "cell_type": "code",
      "execution_count": null,
      "metadata": {
        "id": "ZC4kcytbt0qv"
      },
      "outputs": [],
      "source": [
        "model = MLP_model_seq(input_size, num_classes).to(device)\n",
        "criterion = nn.CrossEntropyLoss()\n",
        "optimizer = torch.optim.SGD(model.parameters(), lr = learning_rate)"
      ]
    },
    {
      "cell_type": "markdown",
      "metadata": {
        "id": "7Wctzwjvqdzl"
      },
      "source": [
        "CNN model"
      ]
    },
    {
      "cell_type": "code",
      "execution_count": null,
      "metadata": {
        "id": "nRin8XiKkZUJ"
      },
      "outputs": [],
      "source": [
        "model= Cnn(input_size, num_classes).to(device)\n",
        "criterion = nn.CrossEntropyLoss()\n",
        "optimizer = torch.optim.Adam(model.parameters(), lr = learning_rate)"
      ]
    },
    {
      "cell_type": "markdown",
      "source": [
        "Batch_Norm"
      ],
      "metadata": {
        "id": "X9r2PoFZEu7t"
      }
    },
    {
      "cell_type": "code",
      "source": [
        "model= Batch_Norm(input_size, num_classes).to(device)\n",
        "criterion = nn.CrossEntropyLoss()\n",
        "optimizer = torch.optim.Adams(model.parameters(), lr = learning_rate)"
      ],
      "metadata": {
        "id": "0Hm1RJGdEs58"
      },
      "execution_count": null,
      "outputs": []
    },
    {
      "cell_type": "markdown",
      "metadata": {
        "id": "n3YEJJ-Du064"
      },
      "source": [
        "# Train"
      ]
    },
    {
      "cell_type": "code",
      "execution_count": null,
      "metadata": {
        "colab": {
          "base_uri": "https://localhost:8080/"
        },
        "id": "FnHdbI6LkSnX",
        "outputId": "583794d7-0a3f-4701-d6e3-c6ccd6ef1687"
      },
      "outputs": [
        {
          "output_type": "stream",
          "name": "stdout",
          "text": [
            "Epoch 1 Loss 1.49107\n",
            "Epoch 2 Loss 0.74377\n",
            "Epoch 3 Loss 0.54549\n",
            "Epoch 4 Loss 0.43991\n",
            "Epoch 5 Loss 0.36420\n",
            "Epoch 6 Loss 0.30985\n",
            "Epoch 7 Loss 0.26914\n",
            "Epoch 8 Loss 0.24606\n",
            "Epoch 9 Loss 0.22996\n",
            "Epoch 10 Loss 0.19717\n"
          ]
        }
      ],
      "source": [
        "loss_list = []\n",
        "loss_train = []\n",
        "for cnt_epoch in range(n_epochs):\n",
        "    avg_cost = 0\n",
        "    # train을 위한 모드 설정\n",
        "    # Drop out과 같은 레이어는, 훈련단계와 평가단계에서의 동작이 다름\n",
        "    model.train()\n",
        "    for cnt_batch, (x, y) in enumerate(train_loader):\n",
        "        x = x.reshape(-1, 28 * 28)\n",
        "        x_input = x.to(device)\n",
        "\n",
        "        y_input = y.to(device)\n",
        "        optimizer.zero_grad()\n",
        "        y_pred = model(x_input)\n",
        "        loss = criterion(y_pred, y_input)\n",
        "        loss.backward()\n",
        "        optimizer.step()\n",
        "\n",
        "        avg_cost += loss.item() / batch_size\n",
        "        loss_list.append(loss)\n",
        "    print(\"Epoch {} Loss {:.5f}\".format(cnt_epoch + 1, avg_cost))\n",
        "    loss_train.append(avg_cost)\n"
      ]
    },
    {
      "cell_type": "markdown",
      "metadata": {
        "id": "H2tUrCn1thBN"
      },
      "source": [
        "# Plot Train Loss"
      ]
    },
    {
      "cell_type": "code",
      "execution_count": null,
      "metadata": {
        "colab": {
          "base_uri": "https://localhost:8080/",
          "height": 452
        },
        "id": "hHXjL6t-tkET",
        "outputId": "fc890636-18dc-4fc9-9e87-0dc6cb584e0c"
      },
      "outputs": [
        {
          "output_type": "display_data",
          "data": {
            "text/plain": [
              "<Figure size 640x480 with 1 Axes>"
            ],
            "image/png": "[encoded data removed]"
          },
          "metadata": {}
        }
      ],
      "source": [
        "plt.plot([i for i in range(1, n_epochs+1)], loss_train, 'bo-', label='Train Loss')\n",
        "plt.grid()\n",
        "plt.title(\"Train Loss\")\n",
        "plt.show()"
      ]
    },
    {
      "cell_type": "markdown",
      "metadata": {
        "id": "iu4iWY0Dr8kE"
      },
      "source": [
        "# Validation"
      ]
    },
    {
      "cell_type": "code",
      "execution_count": null,
      "metadata": {
        "colab": {
          "base_uri": "https://localhost:8080/"
        },
        "id": "TGxKxkhgkSkb",
        "outputId": "032f5dcc-2961-47cd-85fc-63b42e0dd7b3"
      },
      "outputs": [
        {
          "output_type": "stream",
          "name": "stdout",
          "text": [
            "Model Accuracy : 0.98270\n"
          ]
        }
      ],
      "source": [
        "with torch.no_grad():\n",
        "    num_total_data = 0\n",
        "    correct = 0\n",
        "\n",
        "    # validation, evaluation을 위한 모드 설정\n",
        "    # Drop out과 같은 레이어는, 훈련단계와 평가단계에서의 동작이 다름\n",
        "    model.eval()\n",
        "    for cnt_batch, (x, y) in enumerate(test_loader):\n",
        "        x = x.reshape(-1, 28 * 28)\n",
        "        x = x.to(device)\n",
        "        y = y.to(device)\n",
        "        y_pred = model(x)\n",
        "        y_pred = F.softmax(y_pred, dim=1)\n",
        "        y_pred = torch.argmax(y_pred, dim=1)\n",
        "        num_total_data += len(x)\n",
        "        correct += sum(y == y_pred).item()\n",
        "\n",
        "print(\"Model Accuracy : {:.5f}\".format(correct / num_total_data))"
      ]
    },
    {
      "cell_type": "markdown",
      "metadata": {
        "id": "sZgaPLogS9HB"
      },
      "source": [
        "# Model Summary"
      ]
    },
    {
      "cell_type": "code",
      "execution_count": null,
      "metadata": {
        "colab": {
          "base_uri": "https://localhost:8080/"
        },
        "id": "eebm6pWFS8M_",
        "outputId": "124bf6a6-add3-4971-a953-83b2bcf04da3"
      },
      "outputs": [
        {
          "output_type": "stream",
          "name": "stdout",
          "text": [
            "ReLU()\n",
            "Sequential(\n",
            "  (0): Linear(in_features=784, out_features=256, bias=True)\n",
            "  (1): BatchNorm1d(256, eps=1e-05, momentum=0.04, affine=True, track_running_stats=True)\n",
            "  (2): ReLU()\n",
            "  (3): Linear(in_features=256, out_features=128, bias=True)\n",
            "  (4): Dropout(p=0.3, inplace=False)\n",
            "  (5): BatchNorm1d(128, eps=1e-05, momentum=0.1, affine=True, track_running_stats=True)\n",
            "  (6): ReLU()\n",
            "  (7): Linear(in_features=128, out_features=64, bias=True)\n",
            "  (8): BatchNorm1d(64, eps=1e-05, momentum=0.1, affine=True, track_running_stats=True)\n",
            "  (9): MaxPool1d(kernel_size=3, stride=2, padding=1, dilation=1, ceil_mode=False)\n",
            "  (10): ReLU()\n",
            "  (11): Linear(in_features=32, out_features=10, bias=True)\n",
            ")\n"
          ]
        }
      ],
      "source": [
        "for layer in model.children():\n",
        "    print(layer)"
      ]
    },
    {
      "cell_type": "code",
      "execution_count": null,
      "metadata": {
        "id": "BOqW7XIpkSgL"
      },
      "outputs": [],
      "source": [
        "m = nn.Conv2d(1, 4, kernel_size=3, padding=1)\n",
        "input = torch.randn(100, 4, 12, 12)\n",
        "flat = nn.Flatten()\n",
        "output = flat(input)"
      ]
    },
    {
      "cell_type": "code",
      "execution_count": null,
      "metadata": {
        "id": "3qxFAkl4b8FD"
      },
      "outputs": [],
      "source": [
        "m2 = nn.Conv2d(4, 2, kernel_size=5, padding=2)\n",
        "output2 = m2(output)"
      ]
    },
    {
      "cell_type": "code",
      "execution_count": null,
      "metadata": {
        "colab": {
          "base_uri": "https://localhost:8080/"
        },
        "id": "2-0AIwGNkSdV",
        "outputId": "99feb2a9-03a2-4e74-b028-59e7a9087eed"
      },
      "outputs": [
        {
          "name": "stdout",
          "output_type": "stream",
          "text": [
            "torch.Size([100, 4, 12, 12])\n",
            "torch.Size([100, 576])\n"
          ]
        }
      ],
      "source": [
        "print(input.shape)\n",
        "print(output.shape)"
      ]
    },
    {
      "cell_type": "code",
      "execution_count": null,
      "metadata": {
        "id": "M4uZIRBlkSah"
      },
      "outputs": [],
      "source": [
        "pooling_layer = nn.MaxPool2d(3, stride=2)\n",
        "output = pooling_layer(output)"
      ]
    },
    {
      "cell_type": "code",
      "execution_count": null,
      "metadata": {
        "colab": {
          "base_uri": "https://localhost:8080/"
        },
        "id": "eY0MZlDpkSXy",
        "outputId": "081e636a-5de3-4bbc-912a-acb9e67005fe"
      },
      "outputs": [
        {
          "name": "stdout",
          "output_type": "stream",
          "text": [
            "torch.Size([100, 4, 13, 13])\n"
          ]
        }
      ],
      "source": [
        "print(output.shape)"
      ]
    },
    {
      "cell_type": "code",
      "execution_count": null,
      "metadata": {
        "id": "iVO3NydCkSVm"
      },
      "outputs": [],
      "source": [
        "# With Learnable Parameters\n",
        "m = nn.BatchNorm1d(5)\n",
        "input = torch.randn(3, 5)\n",
        "output = m(input)\n"
      ]
    },
    {
      "cell_type": "code",
      "execution_count": null,
      "metadata": {
        "colab": {
          "base_uri": "https://localhost:8080/"
        },
        "id": "LrgQGm6ekSTB",
        "outputId": "c5176848-d19f-4887-9a27-4d14205b53ff"
      },
      "outputs": [
        {
          "name": "stdout",
          "output_type": "stream",
          "text": [
            "torch.Size([3, 5])\n",
            "torch.Size([3, 5])\n"
          ]
        }
      ],
      "source": [
        "print(input.shape)\n",
        "print(output.shape)"
      ]
    },
    {
      "cell_type": "code",
      "execution_count": null,
      "metadata": {
        "colab": {
          "base_uri": "https://localhost:8080/"
        },
        "id": "GAIU3_pokSQb",
        "outputId": "acd0df66-9b21-43c2-df44-e7302073317e"
      },
      "outputs": [
        {
          "name": "stdout",
          "output_type": "stream",
          "text": [
            "tensor([[-1.0967,  0.4810, -1.5182, -0.5899,  0.0825],\n",
            "        [-0.5428,  1.4874, -0.0942,  0.0334,  0.6678],\n",
            "        [-0.8445,  1.1155,  0.2492, -0.9468,  0.0562]])\n",
            "tensor([[-1.1866, -1.3164, -1.3903, -0.2192, -0.6600],\n",
            "        [ 1.2594,  1.1057,  0.4707,  1.3195,  1.4131],\n",
            "        [-0.0727,  0.2107,  0.9195, -1.1003, -0.7531]],\n",
            "       grad_fn=<NativeBatchNormBackward0>)\n",
            "tensor([-1.1866, -1.3164, -1.3903, -0.2192, -0.6600],\n",
            "       grad_fn=<SelectBackward0>)\n"
          ]
        }
      ],
      "source": [
        "print(input)\n",
        "print(output)\n",
        "print(output[0])"
      ]
    },
    {
      "cell_type": "code",
      "execution_count": null,
      "metadata": {
        "colab": {
          "base_uri": "https://localhost:8080/"
        },
        "id": "UVGZ_kSjkSNz",
        "outputId": "a9fe0d62-148a-4237-a9ad-1590556a7295"
      },
      "outputs": [
        {
          "name": "stdout",
          "output_type": "stream",
          "text": [
            "tensor(-4.7725, grad_fn=<AddBackward0>)\n",
            "tensor(-2.6413)\n"
          ]
        }
      ],
      "source": [
        "print(sum(output[0]))\n",
        "print(sum(input[0]))"
      ]
    },
    {
      "cell_type": "code",
      "execution_count": null,
      "metadata": {
        "colab": {
          "base_uri": "https://localhost:8080/"
        },
        "id": "3jHeolcekSLE",
        "outputId": "01be1f85-4ee8-41eb-9c41-697ce36724a2"
      },
      "outputs": [
        {
          "name": "stdout",
          "output_type": "stream",
          "text": [
            "Linear(in_features=30, out_features=32, bias=True)\n"
          ]
        }
      ],
      "source": [
        "print(nn.Linear(30, 32))"
      ]
    },
    {
      "cell_type": "code",
      "execution_count": null,
      "metadata": {
        "id": "pHMySPvLkSIT"
      },
      "outputs": [],
      "source": []
    },
    {
      "cell_type": "code",
      "execution_count": null,
      "metadata": {
        "id": "BdXMkttNkSDg"
      },
      "outputs": [],
      "source": []
    },
    {
      "cell_type": "code",
      "execution_count": null,
      "metadata": {
        "id": "gfniv_HikR-k"
      },
      "outputs": [],
      "source": []
    },
    {
      "cell_type": "code",
      "execution_count": null,
      "metadata": {
        "id": "nWu3exOgkR7-"
      },
      "outputs": [],
      "source": []
    },
    {
      "cell_type": "code",
      "execution_count": null,
      "metadata": {
        "id": "TbQW7aLgkR1r"
      },
      "outputs": [],
      "source": []
    },
    {
      "cell_type": "code",
      "execution_count": null,
      "metadata": {
        "id": "0_vywcwCkRsj"
      },
      "outputs": [],
      "source": []
    },
    {
      "cell_type": "code",
      "execution_count": null,
      "metadata": {
        "id": "bONBGkjOkRRK"
      },
      "outputs": [],
      "source": []
    }
  ],
  "metadata": {
    "accelerator": "GPU",
    "colab": {
      "collapsed_sections": [
        "tcY4EYDusVP3"
      ],
      "gpuType": "T4",
      "provenance": [],
      "authorship_tag": "ABX9TyMAoZPEThBU58WMmzCfO9DY",
      "include_colab_link": true
    },
    "kernelspec": {
      "display_name": "Python 3",
      "name": "python3"
    },
    "language_info": {
      "name": "python"
    }
  },
  "nbformat": 4,
  "nbformat_minor": 0
}