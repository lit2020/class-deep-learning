{
  "cells": [
    {
      "cell_type": "markdown",
      "metadata": {
        "id": "view-in-github",
        "colab_type": "text"
      },
      "source": [
        "<a href=\"https://colab.research.google.com/github/lit2020/class-deep-learning/blob/main/%5BDL%5D201902656_%EA%B9%80%EA%B8%B0%EC%9B%85_HW2.ipynb\" target=\"_parent\"><img src=\"https://colab.research.google.com/assets/colab-badge.svg\" alt=\"Open In Colab\"/></a>"
      ]
    },
    {
      "cell_type": "markdown",
      "metadata": {
        "id": "11yEVCt0sCTL"
      },
      "source": [
        "# Import"
      ]
    },
    {
      "cell_type": "code",
      "execution_count": null,
      "metadata": {
        "id": "wWiRkNOmRisi"
      },
      "outputs": [],
      "source": [
        "import torch\n",
        "import torch.nn as nn # layers, loss functions\n",
        "import torch.nn.functional as F # F.softmax\n",
        "\n",
        "from torch.utils.data import Dataset, DataLoader\n",
        "import torch.utils.data as data_utils\n",
        "import torchvision\n",
        "import torchvision.transforms as transforms\n",
        "\n",
        "import numpy as np\n",
        "from matplotlib import pyplot as plt\n",
        "import random"
      ]
    },
    {
      "cell_type": "markdown",
      "metadata": {
        "id": "tJPVZT5isJND"
      },
      "source": [
        "# Cuda setting"
      ]
    },
    {
      "cell_type": "code",
      "execution_count": null,
      "metadata": {
        "colab": {
          "base_uri": "https://localhost:8080/"
        },
        "id": "UHYHiMqMRDVt",
        "outputId": "2ac97036-d86b-40d0-911e-4bc0e67db721"
      },
      "outputs": [
        {
          "output_type": "stream",
          "name": "stdout",
          "text": [
            "cuda\n"
          ]
        }
      ],
      "source": [
        "device = 'cuda' if torch.cuda.is_available() else 'cpu'\n",
        "print(device)\n",
        "random.seed(1214)\n",
        "torch.manual_seed(1214)\n",
        "if device == 'cuda':\n",
        "    torch.cuda.manual_seed_all(1214)"
      ]
    },
    {
      "cell_type": "markdown",
      "metadata": {
        "id": "tcY4EYDusVP3"
      },
      "source": [
        "# load dataset"
      ]
    },
    {
      "cell_type": "code",
      "execution_count": null,
      "metadata": {
        "id": "Ij2jE0NJjo0e",
        "colab": {
          "base_uri": "https://localhost:8080/"
        },
        "outputId": "0fb6172a-6fda-481f-ffdf-e78e82017c37"
      },
      "outputs": [
        {
          "output_type": "stream",
          "name": "stdout",
          "text": [
            "Downloading http://yann.lecun.com/exdb/mnist/train-images-idx3-ubyte.gz\n",
            "Downloading http://yann.lecun.com/exdb/mnist/train-images-idx3-ubyte.gz to ./data/MNIST/raw/train-images-idx3-ubyte.gz\n"
          ]
        },
        {
          "output_type": "stream",
          "name": "stderr",
          "text": [
            "100%|██████████| 9912422/9912422 [00:00<00:00, 88241360.65it/s]\n"
          ]
        },
        {
          "output_type": "stream",
          "name": "stdout",
          "text": [
            "Extracting ./data/MNIST/raw/train-images-idx3-ubyte.gz to ./data/MNIST/raw\n",
            "\n",
            "Downloading http://yann.lecun.com/exdb/mnist/train-labels-idx1-ubyte.gz\n",
            "Downloading http://yann.lecun.com/exdb/mnist/train-labels-idx1-ubyte.gz to ./data/MNIST/raw/train-labels-idx1-ubyte.gz\n"
          ]
        },
        {
          "output_type": "stream",
          "name": "stderr",
          "text": [
            "100%|██████████| 28881/28881 [00:00<00:00, 106259380.55it/s]\n"
          ]
        },
        {
          "output_type": "stream",
          "name": "stdout",
          "text": [
            "Extracting ./data/MNIST/raw/train-labels-idx1-ubyte.gz to ./data/MNIST/raw\n",
            "\n",
            "Downloading http://yann.lecun.com/exdb/mnist/t10k-images-idx3-ubyte.gz\n",
            "Downloading http://yann.lecun.com/exdb/mnist/t10k-images-idx3-ubyte.gz to ./data/MNIST/raw/t10k-images-idx3-ubyte.gz\n"
          ]
        },
        {
          "output_type": "stream",
          "name": "stderr",
          "text": [
            "100%|██████████| 1648877/1648877 [00:00<00:00, 30198157.33it/s]\n"
          ]
        },
        {
          "output_type": "stream",
          "name": "stdout",
          "text": [
            "Extracting ./data/MNIST/raw/t10k-images-idx3-ubyte.gz to ./data/MNIST/raw\n",
            "\n",
            "Downloading http://yann.lecun.com/exdb/mnist/t10k-labels-idx1-ubyte.gz\n",
            "Downloading http://yann.lecun.com/exdb/mnist/t10k-labels-idx1-ubyte.gz to ./data/MNIST/raw/t10k-labels-idx1-ubyte.gz\n"
          ]
        },
        {
          "output_type": "stream",
          "name": "stderr",
          "text": [
            "100%|██████████| 4542/4542 [00:00<00:00, 686307.69it/s]\n"
          ]
        },
        {
          "output_type": "stream",
          "name": "stdout",
          "text": [
            "Extracting ./data/MNIST/raw/t10k-labels-idx1-ubyte.gz to ./data/MNIST/raw\n",
            "\n"
          ]
        }
      ],
      "source": [
        "train_dataset =  torchvision.datasets.MNIST(root='./data', train=True, transform=transforms.ToTensor(), download=True)\n",
        "test_dataset =  torchvision.datasets.MNIST(root='./data', train=False, transform=transforms.ToTensor(), download=True)"
      ]
    },
    {
      "cell_type": "markdown",
      "metadata": {
        "id": "cVZJ4guwscqt"
      },
      "source": [
        "# Models"
      ]
    },
    {
      "cell_type": "code",
      "execution_count": null,
      "metadata": {
        "id": "Mg1p7UhQk_Ru"
      },
      "outputs": [],
      "source": [
        "class MLP_model(nn.Module):\n",
        "    def __init__(self, input_size, num_classes):\n",
        "        super(MLP_model, self).__init__()\n",
        "        self.input_size = input_size\n",
        "        self.num_classes = num_classes\n",
        "\n",
        "        self.layers = nn.ModuleList()\n",
        "        self.activation = nn.Sigmoid()\n",
        "        self.layers.append(nn.Linear(input_size, 512))\n",
        "        # self.layers.append(nn.BatchNorm1d(512))\n",
        "        self.layers.append(self.activation)\n",
        "        self.layers.append(nn.Linear(512, 256))\n",
        "        # self.layers.append(nn.BatchNorm1d(256))\n",
        "        self.layers.append(self.activation)\n",
        "        self.layers.append(nn.Linear(256, 128))\n",
        "        # self.layers.append(nn.BatchNorm1d(128))\n",
        "        self.layers.append(self.activation)\n",
        "        self.layers.append(nn.MaxPool1d(3, padding=1, stride=2))\n",
        "        # self.layers.append(self.activation)\n",
        "        self.layers.append(nn.Linear(64, 32))\n",
        "        # self.layers.append(self.activation)\n",
        "        self.layers.append(nn.Linear(32, num_classes))\n",
        "\n",
        "    def forward(self, x):\n",
        "        output = x\n",
        "        for layer in self.layers:\n",
        "            output = layer(output)\n",
        "        return output"
      ]
    },
    {
      "cell_type": "code",
      "execution_count": null,
      "metadata": {
        "id": "BWvSjJZHoTpc"
      },
      "outputs": [],
      "source": [
        "class MLP_model_seq(nn.Module):\n",
        "    def __init__(self, input_size, num_classes):\n",
        "        super(MLP_model_seq, self).__init__()\n",
        "        self.input_size = input_size\n",
        "        self.num_classes = num_classes\n",
        "\n",
        "        self.activation = nn.ReLU()\n",
        "        self.layers = []\n",
        "        self.layers.append(nn.Linear(input_size, 256))\n",
        "        self.layers.append(self.activation)\n",
        "        self.layers.append(nn.Linear(256, 128))\n",
        "        self.layers.append(self.activation)\n",
        "        self.layers.append(nn.Linear(128, 64))\n",
        "        self.layers.append(self.activation)\n",
        "        self.layers.append(nn.Linear(64, num_classes))\n",
        "        self.model = nn.Sequential(*self.layers)\n",
        "\n",
        "    def forward(self, x):\n",
        "        output = self.model(x)\n",
        "        return output"
      ]
    },
    {
      "cell_type": "code",
      "execution_count": null,
      "metadata": {
        "id": "NpksTFgIx5nP"
      },
      "outputs": [],
      "source": [
        "class Cnn(nn.Module):\n",
        "    def __init__(self, input_size, num_classes):\n",
        "        super(Cnn, self).__init__()\n",
        "        self.input_size = input_size\n",
        "        self.num_classes = num_classes\n",
        "        # (1, 28, 28)\n",
        "        self.layers = nn.ModuleList()\n",
        "        self.layers.append(nn.Conv2d(1, 1, kernel_size=5, padding=2))# (1, 28, 28)\n",
        "        self.layers.append(nn.Conv2d(1, 1, kernel_size=3, padding=1)) # (1, 28, 28)\n",
        "        self.layers.append(nn.Conv2d(1, 1, kernel_size=3, stride=2)) # (1, 13, 13)\n",
        "        self.layers.append(nn.MaxPool2d(2)) # (1, 12, 12)\n",
        "        self.layers.append(nn.Flatten()) # (144)\n",
        "        self.layers.append(nn.Linear(12 * 12, 128))\n",
        "        self.layers.append(nn.ReLU())\n",
        "        self.layers.append(nn.Linear(128, 128))\n",
        "        self.layers.append(nn.ReLU())\n",
        "        self.layers.append(nn.Linear(128, 64))\n",
        "        self.layers.append(nn.ReLU())\n",
        "        self.layers.append(nn.Linear(64, num_classes))\n",
        "        self.layers.append(nn.ReLU())\n",
        "\n",
        "    def forward(self, x):\n",
        "        output = x\n",
        "        for layer in self.layers:\n",
        "            output = layer(output)\n",
        "        return output\n"
      ]
    },
    {
      "cell_type": "markdown",
      "metadata": {
        "id": "Bwk4oWV6sxd7"
      },
      "source": [
        "# Hyper Parameters"
      ]
    },
    {
      "cell_type": "code",
      "execution_count": null,
      "metadata": {
        "id": "QTtLkbCgkZlG"
      },
      "outputs": [],
      "source": [
        "# parameters\n",
        "input_size = 28 * 28\n",
        "num_classes = 10\n",
        "n_epochs = 30\n",
        "learning_rate = 0.1"
      ]
    },
    {
      "cell_type": "code",
      "execution_count": null,
      "metadata": {
        "id": "Fcm9_PIRv6q2"
      },
      "outputs": [],
      "source": [
        "batch_size = 100\n",
        "train_loader= DataLoader(dataset=train_dataset, batch_size=batch_size, shuffle=True)\n",
        "test_loader= DataLoader(dataset=test_dataset, batch_size=batch_size, shuffle=False)"
      ]
    },
    {
      "cell_type": "markdown",
      "metadata": {
        "id": "5Sc5-e-whYfS"
      },
      "source": [
        "# Model Selection\n",
        "#### learn only 1 cell"
      ]
    },
    {
      "cell_type": "markdown",
      "metadata": {
        "id": "Izeym6E9qTg0"
      },
      "source": [
        "MLP model"
      ]
    },
    {
      "cell_type": "code",
      "execution_count": null,
      "metadata": {
        "id": "J_l-pgeiaQg9"
      },
      "outputs": [],
      "source": [
        "model = MLP_model(input_size, num_classes).to(device)\n",
        "criterion = nn.CrossEntropyLoss()\n",
        "optimizer = torch.optim.SGD(model.parameters(), lr = learning_rate)"
      ]
    },
    {
      "cell_type": "markdown",
      "metadata": {
        "id": "I3H5Dy7bqkEb"
      },
      "source": [
        "MLP model with nn.Sequential()\n",
        "\n"
      ]
    },
    {
      "cell_type": "code",
      "execution_count": null,
      "metadata": {
        "id": "ZC4kcytbt0qv"
      },
      "outputs": [],
      "source": [
        "model = MLP_model_seq(input_size, num_classes).to(device)\n",
        "criterion = nn.CrossEntropyLoss()\n",
        "optimizer = torch.optim.SGD(model.parameters(), lr = learning_rate)"
      ]
    },
    {
      "cell_type": "markdown",
      "metadata": {
        "id": "7Wctzwjvqdzl"
      },
      "source": [
        "CNN model"
      ]
    },
    {
      "cell_type": "code",
      "execution_count": null,
      "metadata": {
        "id": "nRin8XiKkZUJ"
      },
      "outputs": [],
      "source": [
        "model= Cnn(input_size, num_classes).to(device)\n",
        "criterion = nn.CrossEntropyLoss()\n",
        "optimizer = torch.optim.SGD(model.parameters(), lr = learning_rate)"
      ]
    },
    {
      "cell_type": "markdown",
      "metadata": {
        "id": "n3YEJJ-Du064"
      },
      "source": [
        "# Train"
      ]
    },
    {
      "cell_type": "code",
      "execution_count": null,
      "metadata": {
        "colab": {
          "base_uri": "https://localhost:8080/"
        },
        "id": "FnHdbI6LkSnX",
        "outputId": "fb053bf6-9a26-4215-844e-92c4f40fca4d"
      },
      "outputs": [
        {
          "output_type": "stream",
          "name": "stdout",
          "text": [
            "Epoch 1 Loss 13.70194\n",
            "Epoch 2 Loss 11.32274\n",
            "Epoch 3 Loss 8.07341\n",
            "Epoch 4 Loss 6.25804\n",
            "Epoch 5 Loss 4.97841\n",
            "Epoch 6 Loss 3.71324\n",
            "Epoch 7 Loss 3.20591\n",
            "Epoch 8 Loss 2.93395\n",
            "Epoch 9 Loss 2.72072\n",
            "Epoch 10 Loss 2.53944\n",
            "Epoch 11 Loss 2.35217\n",
            "Epoch 12 Loss 2.15472\n",
            "Epoch 13 Loss 1.97155\n",
            "Epoch 14 Loss 1.82066\n",
            "Epoch 15 Loss 1.70373\n",
            "Epoch 16 Loss 1.59983\n",
            "Epoch 17 Loss 1.51038\n",
            "Epoch 18 Loss 1.41051\n",
            "Epoch 19 Loss 1.33163\n",
            "Epoch 20 Loss 1.25244\n",
            "Epoch 21 Loss 1.18328\n",
            "Epoch 22 Loss 1.12287\n",
            "Epoch 23 Loss 1.04694\n",
            "Epoch 24 Loss 1.00692\n",
            "Epoch 25 Loss 0.96010\n",
            "Epoch 26 Loss 0.89902\n",
            "Epoch 27 Loss 0.86834\n",
            "Epoch 28 Loss 0.82241\n",
            "Epoch 29 Loss 0.77910\n",
            "Epoch 30 Loss 0.76306\n"
          ]
        }
      ],
      "source": [
        "loss_list = []\n",
        "loss_train = []\n",
        "for cnt_epoch in range(n_epochs):\n",
        "    avg_cost = 0\n",
        "    for cnt_batch, (x, y) in enumerate(train_loader):\n",
        "        x = x.reshape(-1, 28 * 28)\n",
        "        x_input = x.to(device)\n",
        "\n",
        "        y_input = y.to(device)\n",
        "        optimizer.zero_grad()\n",
        "        y_pred = model(x_input)\n",
        "        loss = criterion(y_pred, y_input)\n",
        "        loss.backward()\n",
        "        optimizer.step()\n",
        "\n",
        "        avg_cost += loss.item() / batch_size\n",
        "        loss_list.append(loss)\n",
        "    print(\"Epoch {} Loss {:.5f}\".format(cnt_epoch + 1, avg_cost))\n",
        "    loss_train.append(avg_cost)\n"
      ]
    },
    {
      "cell_type": "markdown",
      "metadata": {
        "id": "H2tUrCn1thBN"
      },
      "source": [
        "# Plot Train Loss"
      ]
    },
    {
      "cell_type": "code",
      "execution_count": null,
      "metadata": {
        "colab": {
          "base_uri": "https://localhost:8080/",
          "height": 452
        },
        "id": "hHXjL6t-tkET",
        "outputId": "29f717e3-69e6-473e-8ae7-5d6420162c06"
      },
      "outputs": [
        {
          "output_type": "display_data",
          "data": {
            "text/plain": [
              "<Figure size 640x480 with 1 Axes>"
            ],
            "image/png": "[encoded data removed]"
          },
          "metadata": {}
        }
      ],
      "source": [
        "plt.plot([i for i in range(1, n_epochs+1)], loss_train, 'bo-', label='Train Loss')\n",
        "plt.grid()\n",
        "plt.title(\"Train Loss\")\n",
        "plt.show()"
      ]
    },
    {
      "cell_type": "markdown",
      "metadata": {
        "id": "iu4iWY0Dr8kE"
      },
      "source": [
        "# Validation"
      ]
    },
    {
      "cell_type": "code",
      "execution_count": null,
      "metadata": {
        "colab": {
          "base_uri": "https://localhost:8080/"
        },
        "id": "TGxKxkhgkSkb",
        "outputId": "eb91ed81-a67b-43d1-dee0-a9dfa4dec382"
      },
      "outputs": [
        {
          "output_type": "stream",
          "name": "stdout",
          "text": [
            "Model Accuracy : 0.95420\n"
          ]
        }
      ],
      "source": [
        "with torch.no_grad():\n",
        "    num_total_data = 0\n",
        "    correct = 0\n",
        "    for cnt_batch, (x, y) in enumerate(test_loader):\n",
        "        x = x.reshape(-1, 28 * 28)\n",
        "        x = x.to(device)\n",
        "        y = y.to(device)\n",
        "        y_pred = model(x)\n",
        "        y_pred = F.softmax(y_pred, dim=1)\n",
        "        y_pred = torch.argmax(y_pred, dim=1)\n",
        "        num_total_data += len(x)\n",
        "        correct += sum(y == y_pred).item()\n",
        "\n",
        "print(\"Model Accuracy : {:.5f}\".format(correct / num_total_data))"
      ]
    },
    {
      "cell_type": "markdown",
      "metadata": {
        "id": "sZgaPLogS9HB"
      },
      "source": [
        "# Model Summary"
      ]
    },
    {
      "cell_type": "code",
      "execution_count": null,
      "metadata": {
        "colab": {
          "base_uri": "https://localhost:8080/"
        },
        "id": "eebm6pWFS8M_",
        "outputId": "4de07fda-bff4-472b-b5de-28b1e0424ecd"
      },
      "outputs": [
        {
          "name": "stdout",
          "output_type": "stream",
          "text": [
            "ModuleList(\n",
            "  (0): Linear(in_features=784, out_features=256, bias=True)\n",
            "  (1): Sigmoid()\n",
            "  (2): Linear(in_features=256, out_features=128, bias=True)\n",
            "  (3): Sigmoid()\n",
            "  (4): Linear(in_features=128, out_features=64, bias=True)\n",
            "  (5): Sigmoid()\n",
            "  (6): MaxPool1d(kernel_size=3, stride=2, padding=1, dilation=1, ceil_mode=False)\n",
            "  (7): Linear(in_features=32, out_features=10, bias=True)\n",
            ")\n",
            "Sigmoid()\n"
          ]
        }
      ],
      "source": [
        "for layer in model.children():\n",
        "    print(layer)"
      ]
    },
    {
      "cell_type": "code",
      "execution_count": null,
      "metadata": {
        "id": "BOqW7XIpkSgL"
      },
      "outputs": [],
      "source": [
        "m = nn.Conv2d(1, 4, kernel_size=3, padding=1)\n",
        "input = torch.randn(100, 4, 12, 12)\n",
        "flat = nn.Flatten()\n",
        "output = flat(input)"
      ]
    },
    {
      "cell_type": "code",
      "execution_count": null,
      "metadata": {
        "id": "3qxFAkl4b8FD"
      },
      "outputs": [],
      "source": [
        "m2 = nn.Conv2d(4, 2, kernel_size=5, padding=2)\n",
        "output2 = m2(output)"
      ]
    },
    {
      "cell_type": "code",
      "execution_count": null,
      "metadata": {
        "colab": {
          "base_uri": "https://localhost:8080/"
        },
        "id": "2-0AIwGNkSdV",
        "outputId": "99feb2a9-03a2-4e74-b028-59e7a9087eed"
      },
      "outputs": [
        {
          "name": "stdout",
          "output_type": "stream",
          "text": [
            "torch.Size([100, 4, 12, 12])\n",
            "torch.Size([100, 576])\n"
          ]
        }
      ],
      "source": [
        "print(input.shape)\n",
        "print(output.shape)"
      ]
    },
    {
      "cell_type": "code",
      "execution_count": null,
      "metadata": {
        "id": "M4uZIRBlkSah"
      },
      "outputs": [],
      "source": [
        "pooling_layer = nn.MaxPool2d(3, stride=2)\n",
        "output = pooling_layer(output)"
      ]
    },
    {
      "cell_type": "code",
      "execution_count": null,
      "metadata": {
        "colab": {
          "base_uri": "https://localhost:8080/"
        },
        "id": "eY0MZlDpkSXy",
        "outputId": "081e636a-5de3-4bbc-912a-acb9e67005fe"
      },
      "outputs": [
        {
          "name": "stdout",
          "output_type": "stream",
          "text": [
            "torch.Size([100, 4, 13, 13])\n"
          ]
        }
      ],
      "source": [
        "print(output.shape)"
      ]
    },
    {
      "cell_type": "code",
      "execution_count": null,
      "metadata": {
        "id": "iVO3NydCkSVm"
      },
      "outputs": [],
      "source": [
        "# With Learnable Parameters\n",
        "m = nn.BatchNorm1d(5)\n",
        "input = torch.randn(3, 5)\n",
        "output = m(input)\n"
      ]
    },
    {
      "cell_type": "code",
      "execution_count": null,
      "metadata": {
        "colab": {
          "base_uri": "https://localhost:8080/"
        },
        "id": "LrgQGm6ekSTB",
        "outputId": "c5176848-d19f-4887-9a27-4d14205b53ff"
      },
      "outputs": [
        {
          "name": "stdout",
          "output_type": "stream",
          "text": [
            "torch.Size([3, 5])\n",
            "torch.Size([3, 5])\n"
          ]
        }
      ],
      "source": [
        "print(input.shape)\n",
        "print(output.shape)"
      ]
    },
    {
      "cell_type": "code",
      "execution_count": null,
      "metadata": {
        "colab": {
          "base_uri": "https://localhost:8080/"
        },
        "id": "GAIU3_pokSQb",
        "outputId": "acd0df66-9b21-43c2-df44-e7302073317e"
      },
      "outputs": [
        {
          "name": "stdout",
          "output_type": "stream",
          "text": [
            "tensor([[-1.0967,  0.4810, -1.5182, -0.5899,  0.0825],\n",
            "        [-0.5428,  1.4874, -0.0942,  0.0334,  0.6678],\n",
            "        [-0.8445,  1.1155,  0.2492, -0.9468,  0.0562]])\n",
            "tensor([[-1.1866, -1.3164, -1.3903, -0.2192, -0.6600],\n",
            "        [ 1.2594,  1.1057,  0.4707,  1.3195,  1.4131],\n",
            "        [-0.0727,  0.2107,  0.9195, -1.1003, -0.7531]],\n",
            "       grad_fn=<NativeBatchNormBackward0>)\n",
            "tensor([-1.1866, -1.3164, -1.3903, -0.2192, -0.6600],\n",
            "       grad_fn=<SelectBackward0>)\n"
          ]
        }
      ],
      "source": [
        "print(input)\n",
        "print(output)\n",
        "print(output[0])"
      ]
    },
    {
      "cell_type": "code",
      "execution_count": null,
      "metadata": {
        "colab": {
          "base_uri": "https://localhost:8080/"
        },
        "id": "UVGZ_kSjkSNz",
        "outputId": "a9fe0d62-148a-4237-a9ad-1590556a7295"
      },
      "outputs": [
        {
          "name": "stdout",
          "output_type": "stream",
          "text": [
            "tensor(-4.7725, grad_fn=<AddBackward0>)\n",
            "tensor(-2.6413)\n"
          ]
        }
      ],
      "source": [
        "print(sum(output[0]))\n",
        "print(sum(input[0]))"
      ]
    },
    {
      "cell_type": "code",
      "execution_count": null,
      "metadata": {
        "colab": {
          "base_uri": "https://localhost:8080/"
        },
        "id": "3jHeolcekSLE",
        "outputId": "01be1f85-4ee8-41eb-9c41-697ce36724a2"
      },
      "outputs": [
        {
          "name": "stdout",
          "output_type": "stream",
          "text": [
            "Linear(in_features=30, out_features=32, bias=True)\n"
          ]
        }
      ],
      "source": [
        "print(nn.Linear(30, 32))"
      ]
    },
    {
      "cell_type": "code",
      "execution_count": null,
      "metadata": {
        "id": "pHMySPvLkSIT"
      },
      "outputs": [],
      "source": []
    },
    {
      "cell_type": "code",
      "execution_count": null,
      "metadata": {
        "id": "BdXMkttNkSDg"
      },
      "outputs": [],
      "source": []
    },
    {
      "cell_type": "code",
      "execution_count": null,
      "metadata": {
        "id": "gfniv_HikR-k"
      },
      "outputs": [],
      "source": []
    },
    {
      "cell_type": "code",
      "execution_count": null,
      "metadata": {
        "id": "nWu3exOgkR7-"
      },
      "outputs": [],
      "source": []
    },
    {
      "cell_type": "code",
      "execution_count": null,
      "metadata": {
        "id": "TbQW7aLgkR1r"
      },
      "outputs": [],
      "source": []
    },
    {
      "cell_type": "code",
      "execution_count": null,
      "metadata": {
        "id": "0_vywcwCkRsj"
      },
      "outputs": [],
      "source": []
    },
    {
      "cell_type": "code",
      "execution_count": null,
      "metadata": {
        "id": "bONBGkjOkRRK"
      },
      "outputs": [],
      "source": []
    }
  ],
  "metadata": {
    "accelerator": "GPU",
    "colab": {
      "collapsed_sections": [
        "11yEVCt0sCTL",
        "tJPVZT5isJND",
        "tcY4EYDusVP3",
        "iu4iWY0Dr8kE"
      ],
      "gpuType": "T4",
      "provenance": [],
      "authorship_tag": "ABX9TyPo3T3mMkyvEnXSofHTIK4Y",
      "include_colab_link": true
    },
    "kernelspec": {
      "display_name": "Python 3",
      "name": "python3"
    },
    "language_info": {
      "name": "python"
    }
  },
  "nbformat": 4,
  "nbformat_minor": 0
}